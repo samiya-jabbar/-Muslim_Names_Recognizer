{
  "nbformat": 4,
  "nbformat_minor": 0,
  "metadata": {
    "colab": {
      "provenance": []
    },
    "kernelspec": {
      "name": "python3",
      "display_name": "Python 3"
    },
    "language_info": {
      "name": "python"
    }
  },
  "cells": [
    {
      "cell_type": "code",
      "source": [
        "!pip install spacy==3.5.0\n"
      ],
      "metadata": {
        "id": "ebIg6A_r8w-a"
      },
      "execution_count": null,
      "outputs": []
    },
    {
      "cell_type": "code",
      "source": [
        "!python -m spacy info"
      ],
      "metadata": {
        "colab": {
          "base_uri": "https://localhost:8080/"
        },
        "id": "B8hvZt0qUvfA",
        "outputId": "d5018ade-9377-4090-da45-93ec94dcf290"
      },
      "execution_count": 4,
      "outputs": [
        {
          "output_type": "stream",
          "name": "stdout",
          "text": [
            "2023-07-09 18:39:51.794890: I tensorflow/core/platform/cpu_feature_guard.cc:182] This TensorFlow binary is optimized to use available CPU instructions in performance-critical operations.\n",
            "To enable the following instructions: AVX2 FMA, in other operations, rebuild TensorFlow with the appropriate compiler flags.\n",
            "2023-07-09 18:39:53.270561: W tensorflow/compiler/tf2tensorrt/utils/py_utils.cc:38] TF-TRT Warning: Could not find TensorRT\n",
            "\u001b[1m\n",
            "============================== Info about spaCy ==============================\u001b[0m\n",
            "\n",
            "spaCy version    3.5.0                         \n",
            "Location         /usr/local/lib/python3.10/dist-packages/spacy\n",
            "Platform         Linux-5.15.107+-x86_64-with-glibc2.31\n",
            "Python version   3.10.12                       \n",
            "Pipelines        en_core_web_sm (3.5.0)        \n",
            "\n"
          ]
        }
      ]
    },
    {
      "cell_type": "code",
      "source": [
        "import spacy\n",
        "from spacy.tokens import DocBin # efficient, good\n",
        "from tqdm import tqdm  # to show progress\n",
        "\n",
        "nlp = spacy.blank(\"en\") # load a new spacy model\n",
        "db = DocBin() # create a DocBin object"
      ],
      "metadata": {
        "id": "CYc4PoUJZgVI"
      },
      "execution_count": 5,
      "outputs": []
    },
    {
      "cell_type": "code",
      "source": [
        "import json\n",
        "f = open('annotations.json')\n",
        "TRAIN_DATA = json.load(f)"
      ],
      "metadata": {
        "id": "ypmHuPYBZ7C0"
      },
      "execution_count": 16,
      "outputs": []
    },
    {
      "cell_type": "code",
      "source": [
        "TRAIN_DATA"
      ],
      "metadata": {
        "colab": {
          "base_uri": "https://localhost:8080/"
        },
        "id": "U_nSHtM8-s5S",
        "outputId": "5d9837ee-b799-42ba-8722-25a22dffd532"
      },
      "execution_count": 17,
      "outputs": [
        {
          "output_type": "execute_result",
          "data": {
            "text/plain": [
              "{'classes': ['MUSLIM-GIRL-NAME', 'MUSLIM-BOY-NAME'],\n",
              " 'annotations': [['Once upon a time, in a beautiful garden called Janna, there lived a little girl named Kamila. Kamila was known for her complete kindness and virtue. She had a special bond with nature and would spend her days among the fragrant flowers, spreading happiness wherever she went.\\r',\n",
              "   {'entities': [[86, 93, 'MUSLIM-GIRL-NAME']]}],\n",
              "  ['\\r', {'entities': []}],\n",
              "  ['One day, Kamila came across a group of girls playing under a majestic tree. Their names were Zahra, Fatema, and Areej. They were picking flowers and singing songs of cheerfulness. Kamila joined them, and together they created a beautiful melody that echoed through the garden.\\r',\n",
              "   {'entities': [[93, 98, 'MUSLIM-GIRL-NAME'],\n",
              "     [100, 106, 'MUSLIM-GIRL-NAME'],\n",
              "     [112, 118, 'MUSLIM-GIRL-NAME']]}],\n",
              "  ['\\r', {'entities': []}],\n",
              "  ['As they continued their joyful activities, a young girl named Jasmin appeared. She had recently arrived from a distant land called Hind. Jasmin was amazed by the peaceful atmosphere and the beauty of the garden. She shared stories of her homeland, bringing a sense of unity among them.\\r',\n",
              "   {'entities': [[62, 68, 'MUSLIM-GIRL-NAME']]}],\n",
              "  ['\\r', {'entities': []}],\n",
              "  ['Deep in the garden, they discovered a hidden oasis named Firdaus. Its crystal-clear water reflected the moonlight, creating a mesmerizing sight. The girls sat by the water, captivated by its radiance. They began to share their dreams and aspirations, inspiring one another to reach for the heights.\\r',\n",
              "   {'entities': []}],\n",
              "  ['\\r', {'entities': []}],\n",
              "  ['As they spent more time together, a strong bond formed among the girls. They named their group \"Mawhib,\" symbolizing their unique abilities and virtues. The Mawhib girls became ambassadors of peace, spreading kindness, balance, and trust in the garden and beyond.\\r',\n",
              "   {'entities': []}],\n",
              "  ['\\r', {'entities': []}],\n",
              "  ['Word of their friendship and harmonious ways reached the queen of the garden, Malika. Impressed by their unity, Malika invited the Mawhib girls to her palace, where they met Queen Bilqis from a distant land. Bilqis, a wise and powerful queen, praised their commitment to peace and named them the \"Houriya,\" representing their eternal essence of vitality and purity.\\r',\n",
              "   {'entities': [[78, 85, 'MUSLIM-GIRL-NAME'],\n",
              "     [180, 186, 'MUSLIM-GIRL-NAME'],\n",
              "     [297, 304, 'MUSLIM-GIRL-NAME']]}],\n",
              "  ['\\r', {'entities': []}],\n",
              "  ['The Houriya continued to bring joy and enlightenment to others, inspiring them to find their own balance and radiance. Their story of unity and peaceful coexistence became a legend, reminding people of the beauty that lies in diversity and the importance of cherishing one another.\\r',\n",
              "   {'entities': []}],\n",
              "  ['\\r', {'entities': []}],\n",
              "  [\"And so, the Houriya's tale of friendship, peace, and enlightenment continued to be shared, spreading happiness throughout the garden of Janna and beyond, forever reminding everyone of the power of love and harmony.\\r\",\n",
              "   {'entities': []}],\n",
              "  ['\\r', {'entities': []}],\n",
              "  ['Once upon a time, in a land called Aazad, there lived a young boy named Amir. Amir was known for his thriving and prosperous nature. He had a free spirit and a deep love for independence.\\r',\n",
              "   {'entities': [[72, 77, 'MUSLIM-GIRL-NAME']]}],\n",
              "  ['\\r', {'entities': []}],\n",
              "  ['One day, as Amir was exploring the mountains of Aban, he came across a group of boys engaged in a great worship ceremony. Their names were Hasan, Abbas, and Ayman. They were known for their noble qualities and their dedication to the right path. Intrigued by their righteousness, Amir decided to join them in their rituals.\\r',\n",
              "   {'entities': [[139, 144, 'MUSLIM-BOY-NAME'],\n",
              "     [146, 151, 'MUSLIM-BOY-NAME'],\n",
              "     [157, 163, 'MUSLIM-BOY-NAME']]}],\n",
              "  ['\\r', {'entities': []}],\n",
              "  ['In their journey, they encountered a wise sage named Labib. Labib was known for his profound wisdom and his ability to guide others on the right path. He shared stories of brave warriors like Haitham and Jalal, who displayed great courage and glory. The boys listened intently, inspired by the tales of these valiant heroes.\\r',\n",
              "   {'entities': [[60, 65, 'MUSLIM-BOY-NAME'],\n",
              "     [192, 199, 'MUSLIM-BOY-NAME'],\n",
              "     [204, 209, 'MUSLIM-BOY-NAME']]}],\n",
              "  ['\\r', {'entities': []}],\n",
              "  ['Continuing their adventure, they arrived at a magnificent palace ruled by a just and fair king named Munsif. The king welcomed them warmly and introduced them to his noble court, which included intellectuals like Adib and Isam. The boys engaged in intellectual discussions and debates, learning from the knowledgeable minds surrounding them.\\r',\n",
              "   {'entities': [[101, 108, 'MUSLIM-BOY-NAME'],\n",
              "     [213, 217, 'MUSLIM-BOY-NAME'],\n",
              "     [222, 227, 'MUSLIM-BOY-NAME']]}],\n",
              "  ['\\r', {'entities': []}],\n",
              "  ['Their journey then led them to a desert oasis named Murad, a place of great peace and tranquility. There, they met Muslih, a reformer dedicated to bringing positive change to society. Muslih shared his visions of a united and prosperous community, emphasizing the importance of fairness and harmony.\\r',\n",
              "   {'entities': [[115, 121, 'MUSLIM-BOY-NAME']]}],\n",
              "  ['\\r', {'entities': []}],\n",
              "  ['As the boys ventured further, they encountered a challenge, a great obstacle that tested their strength and determination. With their combined efforts and the support of their protector, Hamza, they overcame the challenge, proving that unity and bravery can lead to victory.\\r',\n",
              "   {'entities': [[187, 192, 'MUSLIM-BOY-NAME']]}],\n",
              "  ['\\r', {'entities': []}],\n",
              "  ['Their journey came to a close in the land of Marwan, where they were greeted by Mansur, a victorious leader known for his achievements. Mansur commended the boys for their perseverance and guided them to the path of righteousness.\\r',\n",
              "   {'entities': [[80, 86, 'MUSLIM-BOY-NAME']]}],\n",
              "  ['\\r', {'entities': []}],\n",
              "  ['In the end, the boys realized that true success lies not only in personal accomplishments but also in serving others and striving for the betterment of society. They returned to their homes with a renewed sense of purpose, ready to make a positive impact in their communities.\\r',\n",
              "   {'entities': []}],\n",
              "  ['\\r', {'entities': []}],\n",
              "  ['Their tale of bravery, righteousness, and unity spread far and wide, inspiring generations to come. The story of Amir, Hasan, Abbas, and their companions became a legend, reminding people of the importance of striving for excellence, seeking knowledge, and embracing the values of justice, fairness, and harmony.\\r',\n",
              "   {'entities': [[113, 117, 'MUSLIM-BOY-NAME'],\n",
              "     [119, 124, 'MUSLIM-BOY-NAME'],\n",
              "     [126, 131, 'MUSLIM-BOY-NAME']]}],\n",
              "  ['\\r', {'entities': []}],\n",
              "  ['And so, their names echoed through time, forever inspiring others to be strong, noble, and to tread the path of righteousness.',\n",
              "   {'entities': []}]]}"
            ]
          },
          "metadata": {},
          "execution_count": 17
        }
      ]
    },
    {
      "cell_type": "code",
      "source": [
        "for text, annot in tqdm(TRAIN_DATA['annotations']):\n",
        "    doc = nlp.make_doc(text)\n",
        "    ents = []\n",
        "    for start, end, label in annot[\"entities\"]:\n",
        "        span = doc.char_span(start, end, label=label, alignment_mode=\"contract\")\n",
        "        if span is None:\n",
        "            print(\"Skipping entity\")\n",
        "        else:\n",
        "            ents.append(span)\n",
        "    doc.ents = ents\n",
        "    db.add(doc)\n",
        "\n",
        "db.to_disk(\"./training_data.spacy\") # save the docbin object"
      ],
      "metadata": {
        "colab": {
          "base_uri": "https://localhost:8080/"
        },
        "id": "VRGQF9p2VKss",
        "outputId": "a045e08f-0425-49ef-ac5b-43685c87466e"
      },
      "execution_count": 18,
      "outputs": [
        {
          "output_type": "stream",
          "name": "stderr",
          "text": [
            "100%|██████████| 35/35 [00:00<00:00, 1240.37it/s]\n"
          ]
        }
      ]
    },
    {
      "cell_type": "code",
      "source": [
        "! python -m spacy init config config.cfg --lang en --pipeline ner --optimize efficiency"
      ],
      "metadata": {
        "colab": {
          "base_uri": "https://localhost:8080/"
        },
        "id": "SECGYS_KVUHF",
        "outputId": "035f806e-ba9e-4790-cbdf-110ffc9e28d0"
      },
      "execution_count": 19,
      "outputs": [
        {
          "output_type": "stream",
          "name": "stdout",
          "text": [
            "2023-07-09 19:43:34.716802: W tensorflow/compiler/tf2tensorrt/utils/py_utils.cc:38] TF-TRT Warning: Could not find TensorRT\n",
            "\n",
            "\u001b[38;5;1m✘ The provided output file already exists. To force overwriting the\n",
            "config file, set the --force or -F flag.\u001b[0m\n",
            "\n"
          ]
        }
      ]
    },
    {
      "cell_type": "code",
      "source": [
        "! python -m spacy train config.cfg --output ./ --paths.train ./training_data.spacy --paths.dev ./training_data.spacy"
      ],
      "metadata": {
        "colab": {
          "base_uri": "https://localhost:8080/"
        },
        "id": "sT82H_hqWaGP",
        "outputId": "51cb0157-6a3b-4f60-8651-56c85d1a42a2"
      },
      "execution_count": 20,
      "outputs": [
        {
          "output_type": "stream",
          "name": "stdout",
          "text": [
            "2023-07-09 19:43:43.153310: W tensorflow/compiler/tf2tensorrt/utils/py_utils.cc:38] TF-TRT Warning: Could not find TensorRT\n",
            "\u001b[38;5;4mℹ Saving to output directory: .\u001b[0m\n",
            "\u001b[38;5;4mℹ Using CPU\u001b[0m\n",
            "\u001b[1m\n",
            "=========================== Initializing pipeline ===========================\u001b[0m\n",
            "[2023-07-09 19:43:46,499] [INFO] Set up nlp object from config\n",
            "[2023-07-09 19:43:46,518] [INFO] Pipeline: ['tok2vec', 'ner']\n",
            "[2023-07-09 19:43:46,522] [INFO] Created vocabulary\n",
            "[2023-07-09 19:43:46,524] [INFO] Finished initializing nlp object\n",
            "[2023-07-09 19:43:46,674] [INFO] Initialized pipeline components: ['tok2vec', 'ner']\n",
            "\u001b[38;5;2m✔ Initialized pipeline\u001b[0m\n",
            "\u001b[1m\n",
            "============================= Training pipeline =============================\u001b[0m\n",
            "\u001b[38;5;4mℹ Pipeline: ['tok2vec', 'ner']\u001b[0m\n",
            "\u001b[38;5;4mℹ Initial learn rate: 0.001\u001b[0m\n",
            "E    #       LOSS TOK2VEC  LOSS NER  ENTS_F  ENTS_P  ENTS_R  SCORE \n",
            "---  ------  ------------  --------  ------  ------  ------  ------\n",
            "  0       0          0.00     27.50    0.00    0.00    0.00    0.00\n",
            " 17     200        128.80    847.35  100.00  100.00  100.00    1.00\n",
            " 39     400          0.00      0.01  100.00  100.00  100.00    1.00\n",
            " 66     600          0.00      0.00  100.00  100.00  100.00    1.00\n",
            "101     800          0.00      0.00  100.00  100.00  100.00    1.00\n",
            "146    1000          0.00      0.00  100.00  100.00  100.00    1.00\n",
            "198    1200          0.00      0.00  100.00  100.00  100.00    1.00\n",
            "264    1400          0.00      0.00  100.00  100.00  100.00    1.00\n",
            "343    1600          0.00      0.00  100.00  100.00  100.00    1.00\n",
            "443    1800          0.00      0.00  100.00  100.00  100.00    1.00\n",
            "\u001b[38;5;2m✔ Saved pipeline to output directory\u001b[0m\n",
            "model-last\n"
          ]
        }
      ]
    },
    {
      "cell_type": "code",
      "source": [
        "nlp_ner = spacy.load(\"/content/model-best\")"
      ],
      "metadata": {
        "id": "8zljPkppcy_w"
      },
      "execution_count": 21,
      "outputs": []
    },
    {
      "cell_type": "code",
      "source": [
        "# input test data\n",
        "doc = nlp_ner('''In the bustling city of Azaan, a young girl named Safiya wandered through the vibrant marketplaces.\n",
        "As she strolled along, she crossed paths with a curious boy named Zayn, known for his adventurous spirit.\n",
        "Together, Safiya and Zayn embarked on a thrilling quest to uncover the secrets of the ancient temple of Aisha.''')"
      ],
      "metadata": {
        "id": "GTbWEZ9Cc9b4"
      },
      "execution_count": 22,
      "outputs": []
    },
    {
      "cell_type": "code",
      "source": [
        "spacy.displacy.render(doc, style=\"ent\", jupyter=True) # display in Jupyter"
      ],
      "metadata": {
        "colab": {
          "base_uri": "https://localhost:8080/",
          "height": 122
        },
        "id": "oBNf3_JGWzB9",
        "outputId": "55cf0a6e-4ac4-4af4-9167-c858cbfe48b1"
      },
      "execution_count": 23,
      "outputs": [
        {
          "output_type": "display_data",
          "data": {
            "text/plain": [
              "<IPython.core.display.HTML object>"
            ],
            "text/html": [
              "<span class=\"tex2jax_ignore\"><div class=\"entities\" style=\"line-height: 2.5; direction: ltr\">In the bustling city of \n",
              "<mark class=\"entity\" style=\"background: #ddd; padding: 0.45em 0.6em; margin: 0 0.25em; line-height: 1; border-radius: 0.35em;\">\n",
              "    Azaan\n",
              "    <span style=\"font-size: 0.8em; font-weight: bold; line-height: 1; border-radius: 0.35em; vertical-align: middle; margin-left: 0.5rem\">MUSLIM-BOY-NAME</span>\n",
              "</mark>\n",
              ", a young girl named \n",
              "<mark class=\"entity\" style=\"background: #ddd; padding: 0.45em 0.6em; margin: 0 0.25em; line-height: 1; border-radius: 0.35em;\">\n",
              "    Safiya\n",
              "    <span style=\"font-size: 0.8em; font-weight: bold; line-height: 1; border-radius: 0.35em; vertical-align: middle; margin-left: 0.5rem\">MUSLIM-GIRL-NAME</span>\n",
              "</mark>\n",
              " wandered through the vibrant marketplaces. </br>As she strolled along, she crossed paths with a curious boy named \n",
              "<mark class=\"entity\" style=\"background: #ddd; padding: 0.45em 0.6em; margin: 0 0.25em; line-height: 1; border-radius: 0.35em;\">\n",
              "    Zayn\n",
              "    <span style=\"font-size: 0.8em; font-weight: bold; line-height: 1; border-radius: 0.35em; vertical-align: middle; margin-left: 0.5rem\">MUSLIM-GIRL-NAME</span>\n",
              "</mark>\n",
              ", known for his adventurous spirit. </br>Together, \n",
              "<mark class=\"entity\" style=\"background: #ddd; padding: 0.45em 0.6em; margin: 0 0.25em; line-height: 1; border-radius: 0.35em;\">\n",
              "    Safiya\n",
              "    <span style=\"font-size: 0.8em; font-weight: bold; line-height: 1; border-radius: 0.35em; vertical-align: middle; margin-left: 0.5rem\">MUSLIM-GIRL-NAME</span>\n",
              "</mark>\n",
              " and Zayn embarked on a thrilling quest to uncover the secrets of the ancient temple of \n",
              "<mark class=\"entity\" style=\"background: #ddd; padding: 0.45em 0.6em; margin: 0 0.25em; line-height: 1; border-radius: 0.35em;\">\n",
              "    Aisha.\n",
              "    <span style=\"font-size: 0.8em; font-weight: bold; line-height: 1; border-radius: 0.35em; vertical-align: middle; margin-left: 0.5rem\">MUSLIM-GIRL-NAME</span>\n",
              "</mark>\n",
              "</div></span>"
            ]
          },
          "metadata": {}
        }
      ]
    },
    {
      "cell_type": "code",
      "source": [],
      "metadata": {
        "id": "Ovs0RAREdM9y"
      },
      "execution_count": null,
      "outputs": []
    }
  ]
}